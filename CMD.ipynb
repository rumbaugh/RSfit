{
 "cells": [
  {
   "cell_type": "markdown",
   "metadata": {},
   "source": [
    "# Classifying red and blue galaxies with a CMD\n",
    "----"
   ]
  },
  {
   "cell_type": "markdown",
   "metadata": {},
   "source": [
    "This is a short demo on how I used color-magnitude diagrams to classify galaxies as red or blue in my research for the ORELSE survey. The ultimate goal of this work is to answer the question 'Are active galactic nuclei associated with galaxies that have very recently stopped producing star?' via answering the simpler question 'Are active galaxies over-representing on a color-magnitude diagram in the low density region between the blue cloud and the red sequence?' This demo doesn't answer that question, but carries out the important step off locating the blue cloud and red sequence."
   ]
  }, 
  {
   "cell_type": "markdown",
   "metadata": {},
   "source": [
    "## Color-Magnitude Diagrams",
    "T "
   ]
  }, 
  {
   "cell_type": "code",
   "execution_count": 8,
   "metadata": {
    "collapsed": false
   },
   "outputs": [
    {
     "name": "stdout",
     "output_type": "stream",
     "text": [
      "6 files copied to local server\n"
     ]
    }
   ],
   "source": [
    "from IPython.display import Image\n",
    "Image('http://github.com/rumbaugh/RSfit/blob/master/notebook_images/RedSequenceBlueCloud.jpg')"
   ]
  }
 ],
 "metadata": {
  "kernelspec": {
   "display_name": "Python 2",
   "language": "python",
   "name": "python2"
  },
  "language_info": {
   "codemirror_mode": {
    "name": "ipython",
    "version": 2
   },
   "file_extension": ".py",
   "mimetype": "text/x-python",
   "name": "python",
   "nbconvert_exporter": "python",
   "pygments_lexer": "ipython2",
   "version": "2.7.8"
  }
 },
 "nbformat": 4,
 "nbformat_minor": 0
}
